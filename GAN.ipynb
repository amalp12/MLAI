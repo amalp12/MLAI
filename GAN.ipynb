{
  "nbformat": 4,
  "nbformat_minor": 0,
  "metadata": {
    "colab": {
      "name": "GAN.ipynb",
      "provenance": [],
      "collapsed_sections": [],
      "authorship_tag": "ABX9TyOHkzF+xXoH2pnRtK5CMQsR",
      "include_colab_link": true
    },
    "kernelspec": {
      "display_name": "Python 3",
      "name": "python3"
    },
    "language_info": {
      "name": "python"
    }
  },
  "cells": [
    {
      "cell_type": "markdown",
      "metadata": {
        "id": "view-in-github",
        "colab_type": "text"
      },
      "source": [
        "<a href=\"https://colab.research.google.com/github/amalp12/MLAI/blob/main/GAN.ipynb\" target=\"_parent\"><img src=\"https://colab.research.google.com/assets/colab-badge.svg\" alt=\"Open In Colab\"/></a>"
      ]
    },
    {
      "cell_type": "markdown",
      "metadata": {
        "id": "Epj1TLVezj6M"
      },
      "source": [
        "**Imports**"
      ]
    },
    {
      "cell_type": "code",
      "metadata": {
        "id": "AWRhFIBezo_h"
      },
      "source": [
        "import torch\n",
        "import torch.nn as nn\n",
        "import torch.optim as optim\n",
        "import torchvision\n",
        "import torchvision.datasets as datasets\n",
        "from torch.utils.data import DataLoader\n",
        "import torchvision.transforms as transforms\n",
        "from google.colab.patches import cv2_imshow\n",
        "import numpy as np\n",
        "from torch.utils.tensorboard import SummaryWriter  # to print to tensorboard\n",
        "import pdb # python debugger https://web.stanford.edu/class/physics91si/2013/handouts/Pdb_Commands.pdf"
      ],
      "execution_count": 2,
      "outputs": []
    },
    {
      "cell_type": "markdown",
      "metadata": {
        "id": "CDz4SGQO0SRY"
      },
      "source": [
        "**Initialise Hyperparameters**"
      ]
    },
    {
      "cell_type": "code",
      "metadata": {
        "id": "wQm_ZFh2z1nH"
      },
      "source": [
        "img_dim = 28*28 # in MNIST, the image dimentions are 28*28\n",
        "d_hidden = 128\n",
        "g_hidden = 256\n",
        "learning_rate = 3e-4\n",
        "# Get CPU in the game\n",
        "device = \"cuda\" if torch.cuda.is_available() else \"cpu\"\n",
        "number_of_epochs = 50\n",
        "batch_size = 32\n",
        "z_dim = 64\n",
        "fixed_noise = torch.randn((batch_size, z_dim)).to(device)"
      ],
      "execution_count": 3,
      "outputs": []
    },
    {
      "cell_type": "markdown",
      "metadata": {
        "id": "lHHKVY4mz2Wf"
      },
      "source": [
        "**Import Data**"
      ]
    },
    {
      "cell_type": "markdown",
      "metadata": {
        "id": "bQx6WAIyUx1j"
      },
      "source": [
        "Data Nomalization: it is typical for the range of different features in a  dataset to be of different scale. For example the age of a person can typically range from 0-100, wheras the living cost of a person can range from say 1000 - 10000. This difference can become problematic if we are running ML algorthms on top of this dataset, hence we will need to rescale the dataset features to be on a more similar scale."
      ]
    },
    {
      "cell_type": "code",
      "metadata": {
        "id": "-QD_NBTm0Vvf"
      },
      "source": [
        "# Normalization \n",
        "# transforms.Compose just clubs all the transforms provided to it. So, all the transforms in the transforms.Compose are applied to the input one by one.\n",
        "transform = transforms.Compose(\n",
        "    [\n",
        "      \n",
        "      # Convert a PIL Image or numpy.ndarray to tensor. This transform does not support torchscript.\n",
        "      # Converts a PIL Image or numpy.ndarray (H x W x C) in the range\n",
        "      # [0, 255] to a torch.FloatTensor of shape (C x H x W) in the range [0.0, 1.0], note that tranforms.ToTensor does this\n",
        "\n",
        "      transforms.ToTensor(),\n",
        "      # Normalize a tensor image with mean and standard deviation.\n",
        "      # modifies the elements ([0,1]  mean)/std_dev  hence turns it into the range [(0-.5)/.5 , (1-.5)/.5] = [-1,1]\n",
        "      transforms.Normalize((0.5,),(0.5,))\n",
        "      # to denormalise  ((output*.5)+.5)*255\n",
        "    ]\n",
        ")\n",
        "\n",
        "# Funtion to Denormalize\n",
        "def denormalize(x):\n",
        "  # Denormalizeing \n",
        "  pixels =  ((x *.5)+.5)*255\n",
        "  return pixels\n",
        "\n",
        "# Load Dataset\n",
        "dataset = datasets.MNIST(root=\"dataset/\", transform=transform,download=True)\n",
        "# Samples a batch of data from the dataset \n",
        "loader = DataLoader(dataset, batch_size=batch_size, shuffle=True)\n",
        "# Each line of data contains 1 + 28*28*1 integers, the first one is label of the data and the rest are pixels  denoting intensity from 0 to 255\n"
      ],
      "execution_count": 89,
      "outputs": []
    },
    {
      "cell_type": "markdown",
      "metadata": {
        "id": "ubkwffjzEA6o"
      },
      "source": [
        "**View Data**"
      ]
    },
    {
      "cell_type": "code",
      "metadata": {
        "colab": {
          "base_uri": "https://localhost:8080/",
          "height": 130
        },
        "id": "FL19Jk2SED2W",
        "outputId": "6b23750a-c7cb-437a-be91-803edb72e18e"
      },
      "source": [
        "# Tuple of tensors\n",
        "view_dataset = datasets.MNIST(root=\"dataset/\" , transform=transform)\n",
        "test_loader = DataLoader(view_dataset, batch_size=batch_size, shuffle=True)\n",
        "data = None\n",
        "label = None\n",
        "#pdb.set_trace()\n",
        "for epoch in range(number_of_epochs):\n",
        "  for batch_index, (real, lab)  in enumerate(test_loader): # _ is label, For gan we are not going to use labels hence we put _\n",
        "    # Data is provided as an enumerate\n",
        "    print(f\"Enumerate Output Before Reshaping : Index : {batch_index}, Data Shape: {real.shape}, Label {lab}\") # enumerate outputs the index, the PIL image form of the data, and the label\n",
        "    # reshaping\n",
        "    real = real.reshape(32,28,28)\n",
        "\n",
        "    # After reshaping\n",
        "    print(f\"Enumerate Output After Reshaping : Index : {batch_index}, Data Shape: {real.shape}, Label {lab}\") # enumerate outputs the index, the PIL image form of the data, and the label\n",
        "\n",
        "    data = real\n",
        "    label = lab\n",
        "    break\n",
        "  break\n",
        "\n",
        "\n",
        "\n",
        "# The first column is the label\n",
        "\n",
        "print(f\"Label : {label[0]}\")\n",
        "# The rest of columns are pixels\n",
        "pixels = data[0]\n",
        "pixels = np.array(pixels)\n",
        "\n",
        "# Denormalizeing \n",
        "#pixels =  ((pixels *.5)+.5)*255\n",
        "pixels = denormalize(pixels)\n",
        "\n",
        "cv2_imshow(pixels)\n"
      ],
      "execution_count": 102,
      "outputs": [
        {
          "output_type": "stream",
          "text": [
            "Enumerate Output Before Reshaping : Index : 0, Data Shape: torch.Size([32, 1, 28, 28]), Label tensor([0, 4, 3, 5, 7, 1, 2, 3, 9, 6, 4, 3, 4, 8, 6, 0, 3, 0, 7, 3, 5, 5, 2, 1,\n",
            "        7, 2, 8, 6, 8, 6, 8, 6])\n",
            "Enumerate Output After Reshaping : Index : 0, Data Shape: torch.Size([32, 28, 28]), Label tensor([0, 4, 3, 5, 7, 1, 2, 3, 9, 6, 4, 3, 4, 8, 6, 0, 3, 0, 7, 3, 5, 5, 2, 1,\n",
            "        7, 2, 8, 6, 8, 6, 8, 6])\n",
            "Label : 0\n"
          ],
          "name": "stdout"
        },
        {
          "output_type": "display_data",
          "data": {
            "image/png": "[encoded data removed]",
            "text/plain": [
              "<PIL.Image.Image image mode=L size=28x28 at 0x7FF24B64EE10>"
            ]
          },
          "metadata": {
            "tags": []
          }
        }
      ]
    },
    {
      "cell_type": "markdown",
      "metadata": {
        "id": "6gXE_N4z2OxN"
      },
      "source": [
        "**BCE LOSS**"
      ]
    },
    {
      "cell_type": "code",
      "metadata": {
        "id": "-RZ8kqBP2THE"
      },
      "source": [
        "criterion = nn.BCELoss()"
      ],
      "execution_count": 7,
      "outputs": []
    },
    {
      "cell_type": "markdown",
      "metadata": {
        "id": "dNv1aaTL0mnV"
      },
      "source": [
        "**Define Discriminator Loss**"
      ]
    },
    {
      "cell_type": "markdown",
      "metadata": {
        "id": "rBJ25NLixA8X"
      },
      "source": [
        "Max [ log (D(x)) + log(1-D(G(z))]"
      ]
    },
    {
      "cell_type": "code",
      "metadata": {
        "id": "hwA9wiUP0myG"
      },
      "source": [
        "def disc_loss(dx,dgz):\n",
        "  assert type(dx) == torch.Tensor\n",
        "  assert type(dgz) == torch.Tensor\n",
        "  loss_model = torch.log(dx) + torch.log(1-dgz)\n",
        "  return loss_model "
      ],
      "execution_count": 8,
      "outputs": []
    },
    {
      "cell_type": "markdown",
      "metadata": {
        "id": "b98jhPdu0xW0"
      },
      "source": [
        "**Define Generator Loss**"
      ]
    },
    {
      "cell_type": "markdown",
      "metadata": {
        "id": "I7YOHJijxuLd"
      },
      "source": [
        "Min [ log(1-D(G(z))] <--> Max [ log (D(G(z)))] "
      ]
    },
    {
      "cell_type": "code",
      "metadata": {
        "id": "DtorOZQu0ukU"
      },
      "source": [
        "def gen_loss():\n",
        "  pass"
      ],
      "execution_count": 9,
      "outputs": []
    },
    {
      "cell_type": "markdown",
      "metadata": {
        "id": "U6vljuel0Hkn"
      },
      "source": [
        "**Define Discriminator Class**"
      ]
    },
    {
      "cell_type": "code",
      "metadata": {
        "id": "qd_JZmTTz9wA"
      },
      "source": [
        "class Discriminator(nn.Module) :\n",
        "  def __init__(self, lr):\n",
        "    super().__init__()\n",
        "\n",
        "    # takes in image dimentions\n",
        "    self.hidden =  128\n",
        "    self.img_dim = 28*28 #784\n",
        "    \n",
        "    self.model = nn.Sequential(\n",
        "        nn.Linear(in_features=self.img_dim, out_features= self.hidden),\n",
        "        nn.LeakyReLU(),\n",
        "        nn.Linear(in_features=self.hidden, out_features= 1),\n",
        "        nn.Sigmoid()\n",
        "     \n",
        "    )\n",
        "    self.optimizer = optim.Adam(params= self.parameters(), lr= lr)\n",
        "    \n",
        "  def forward(self,x):\n",
        "    return self.model(x)"
      ],
      "execution_count": 10,
      "outputs": []
    },
    {
      "cell_type": "markdown",
      "metadata": {
        "id": "86lK6ubyz9Vn"
      },
      "source": [
        "**Define Generator Class**"
      ]
    },
    {
      "cell_type": "code",
      "metadata": {
        "id": "uDHHuvnJ0Hyp"
      },
      "source": [
        "class Generator(nn.Module) :\n",
        "  def __init__(self,lr):\n",
        "    self.hidden =  256\n",
        "    self.noise_dim = 64\n",
        "    self.img_dim = 28*28#784\n",
        "    super().__init__()\n",
        "    # takes in noise dim\n",
        "    self.model = nn.Sequential(\n",
        "        nn.Linear(in_features = self.noise_dim, out_features= self.hidden ), #\n",
        "        nn.LeakyReLU(0.1),\n",
        "        nn.Linear(in_features=self.hidden , out_features= self.img_dim),\n",
        "        nn.Tanh(), # we use tanh to ensure the output of gen is b/w -1 and 1 to  normalize\n",
        "    )\n",
        "    self.optimizer = optim.Adam(params= self.parameters(), lr= lr)\n",
        "    self.loss = nn.BCELoss()\n",
        "  def forward(self, x):\n",
        "    return self.model(x)"
      ],
      "execution_count": 11,
      "outputs": []
    },
    {
      "cell_type": "markdown",
      "metadata": {
        "id": "xi2Blv_s06oU"
      },
      "source": [
        "**Initialzing Discriminator and Generator**"
      ]
    },
    {
      "cell_type": "code",
      "metadata": {
        "id": "z0aiH86H0-D0"
      },
      "source": [
        "disc = Discriminator(learning_rate).to(device)\n",
        "gen = Generator(learning_rate).to(device)\n",
        "\n",
        "\n"
      ],
      "execution_count": 12,
      "outputs": []
    },
    {
      "cell_type": "markdown",
      "metadata": {
        "id": "9fTNzIO6wB9b"
      },
      "source": [
        "**Training** "
      ]
    },
    {
      "cell_type": "code",
      "metadata": {
        "colab": {
          "base_uri": "https://localhost:8080/",
          "height": 1000
        },
        "id": "SkNp0KtxwNBx",
        "outputId": "39534116-0afd-4f4a-b3e9-e99bffcd60b4"
      },
      "source": [
        "for epoch in range(number_of_epochs):\n",
        "  for batch_index, (real_x, _)  in enumerate(loader): # _ is label, For gan we are not going to use labels hence we put _\n",
        "    \n",
        "    real_x = torch.flatten(real_x, start_dim = 1).to(device) # flattenned it into 32 x 784 \n",
        "    assert batch_size == real_x.shape[0] # Test Line\n",
        "    \n",
        "\n",
        "\n",
        "    #### Training the Discriminator\n",
        "\n",
        "    # Generateing Fake images\n",
        "    noise = torch.randn(batch_size, z_dim ).to(device) # creating noise in the dimention of batch size x input of generator (z_dim)\n",
        "    fake_images = gen(noise)\n",
        "    \n",
        "    # cv2_imshow( np.resize( fake_images.detach().numpy(), (28,28))) ## Testline - View Images\n",
        "    \n",
        "    disc_real_x = disc(real_x) # getting real image outputs\n",
        "    disc_real_x = torch.flatten(disc_real_x) # flattening the outputs\n",
        "    \n",
        "    all_ones = torch.ones_like(disc_real_x) # creating a torch with same dimention as disc real with all values one\n",
        "\n",
        "    # getting loss between disc real output and all ones\n",
        "    disc_real_x_loss = criterion(disc_real_x, all_ones)\n",
        "    \n",
        "    # getting the flattened version of the generated fake images\n",
        "    disc_fakes = disc(fake_images)\n",
        "    disc_fakes = torch.flatten(disc_fakes) # flattening the outputs\n",
        "\n",
        "    all_zeros = torch.zeros_like(disc_fakes) # creating a torch with same dimention as disc fake with all values zeros\n",
        "    \n",
        "    # getting loss between gen fake outputs and all zeros\n",
        "    disc_fakes_loss = criterion(disc_fakes, all_zeros)\n",
        "    \n",
        "    # average fake and real loss\n",
        "    disc_loss = (disc_real_x_loss + disc_fakes_loss) / 2\n",
        "\n",
        "    disc.zero_grad() # clearing disc gradients\n",
        "    # when we use loss.backward(), everything we used to calculate the gradients will be cleared, if we do not want that to happen then use retain graph\n",
        "    disc_loss.backward(retain_graph = True) # retained because we need to reuse fake_images\n",
        "    disc.optimizer.step()\n",
        "\n",
        "\n",
        "\n",
        "\n",
        "\n",
        "    #### Training Generator\n",
        "\n",
        "    # Getting gake image outputs, when passed through the trained generator\n",
        "    trained_disc_outputs = disc(fake_images)\n",
        "    trained_disc_outputs = torch.flatten(trained_disc_outputs) # flattening the outputs\n",
        "    all_ones = torch.ones_like(trained_disc_outputs) # creating a torch with same dimention as trained gen outputs with all values one\n",
        "    gen_loss = criterion( trained_disc_outputs, all_ones)\n",
        "    gen.zero_grad()\n",
        "    gen_loss.backward()\n",
        "    gen.optimizer.step()\n",
        "    \n",
        "\n",
        "    \n",
        "    if batch_index == 0:\n",
        "            print(\n",
        "                f\"Epoch [{epoch}/{number_of_epochs}] Batch {batch_index}/{len(loader)} \\\n",
        "                      Loss D: {disc_loss:.4f}, loss G: {gen_loss:.4f}\"\n",
        "            )\n",
        "\n",
        "                #pdb.set_trace()\n",
        "            with torch.no_grad():\n",
        "                fake = gen(fixed_noise).reshape((32,28,28)).numpy()\n",
        "                data = real_x.reshape(32,28, 28).numpy()\n",
        "                # denormalize\n",
        "                fake = denormalize(fake)\n",
        "                data = denormalize(data)\n",
        "                #pdb.set_trace()\n",
        "                print(\"Real Image\")\n",
        "                cv2_imshow(data[16])          \n",
        "\n",
        "                print(\"Fake Image\")\n",
        "                cv2_imshow(fake[16])   \n",
        "\n",
        "                \n",
        "\n",
        "                \n",
        "    \n",
        "    "
      ],
      "execution_count": 99,
      "outputs": [
        {
          "output_type": "stream",
          "text": [
            "Epoch [0/50] Batch 0/1875                       Loss D: 0.6548, loss G: 0.8345\n",
            "Real Image\n"
          ],
          "name": "stdout"
        },
        {
          "output_type": "display_data",
          "data": {
            "image/png": "[encoded data removed]",
            "text/plain": [
              "<PIL.Image.Image image mode=L size=28x28 at 0x7FF24DC1BA10>"
            ]
          },
          "metadata": {
            "tags": []
          }
        },
        {
          "output_type": "stream",
          "text": [
            "Fake Image\n"
          ],
          "name": "stdout"
        },
        {
          "output_type": "display_data",
          "data": {
            "image/png": "[encoded data removed]",
            "text/plain": [
              "<PIL.Image.Image image mode=L size=28x28 at 0x7FF24DC1B9D0>"
            ]
          },
          "metadata": {
            "tags": []
          }
        },
        {
          "output_type": "stream",
          "text": [
            "Epoch [1/50] Batch 0/1875                       Loss D: 0.5910, loss G: 0.8876\n",
            "Real Image\n"
          ],
          "name": "stdout"
        },
        {
          "output_type": "display_data",
          "data": {
            "image/png": "[encoded data removed]",
            "text/plain": [
              "<PIL.Image.Image image mode=L size=28x28 at 0x7FF24B71BF10>"
            ]
          },
          "metadata": {
            "tags": []
          }
        },
        {
          "output_type": "stream",
          "text": [
            "Fake Image\n"
          ],
          "name": "stdout"
        },
        {
          "output_type": "display_data",
          "data": {
            "image/png": "[encoded data removed]",
            "text/plain": [
              "<PIL.Image.Image image mode=L size=28x28 at 0x7FF24C0E0150>"
            ]
          },
          "metadata": {
            "tags": []
          }
        },
        {
          "output_type": "stream",
          "text": [
            "Epoch [2/50] Batch 0/1875                       Loss D: 0.6318, loss G: 1.0689\n",
            "Real Image\n"
          ],
          "name": "stdout"
        },
        {
          "output_type": "display_data",
          "data": {
            "image/png": "[encoded data removed]",
            "text/plain": [
              "<PIL.Image.Image image mode=L size=28x28 at 0x7FF24DC13850>"
            ]
          },
          "metadata": {
            "tags": []
          }
        },
        {
          "output_type": "stream",
          "text": [
            "Fake Image\n"
          ],
          "name": "stdout"
        },
        {
          "output_type": "display_data",
          "data": {
            "image/png": "[encoded data removed]",
            "text/plain": [
              "<PIL.Image.Image image mode=L size=28x28 at 0x7FF24B631B50>"
            ]
          },
          "metadata": {
            "tags": []
          }
        },
        {
          "output_type": "stream",
          "text": [
            "Epoch [3/50] Batch 0/1875                       Loss D: 0.6202, loss G: 0.9903\n",
            "Real Image\n"
          ],
          "name": "stdout"
        },
        {
          "output_type": "display_data",
          "data": {
            "image/png": "[encoded data removed]",
            "text/plain": [
              "<PIL.Image.Image image mode=L size=28x28 at 0x7FF24DC13D90>"
            ]
          },
          "metadata": {
            "tags": []
          }
        },
        {
          "output_type": "stream",
          "text": [
            "Fake Image\n"
          ],
          "name": "stdout"
        },
        {
          "output_type": "display_data",
          "data": {
            "image/png": "[encoded data removed]",
            "text/plain": [
              "<PIL.Image.Image image mode=L size=28x28 at 0x7FF25297CE90>"
            ]
          },
          "metadata": {
            "tags": []
          }
        },
        {
          "output_type": "stream",
          "text": [
            "Epoch [4/50] Batch 0/1875                       Loss D: 0.6314, loss G: 0.9821\n",
            "Real Image\n"
          ],
          "name": "stdout"
        },
        {
          "output_type": "display_data",
          "data": {
            "image/png": "[encoded data removed]",
            "text/plain": [
              "<PIL.Image.Image image mode=L size=28x28 at 0x7FF2529CF910>"
            ]
          },
          "metadata": {
            "tags": []
          }
        },
        {
          "output_type": "stream",
          "text": [
            "Fake Image\n"
          ],
          "name": "stdout"
        },
        {
          "output_type": "display_data",
          "data": {
            "image/png": "[encoded data removed]",
            "text/plain": [
              "<PIL.Image.Image image mode=L size=28x28 at 0x7FF24B631B50>"
            ]
          },
          "metadata": {
            "tags": []
          }
        },
        {
          "output_type": "stream",
          "text": [
            "Epoch [5/50] Batch 0/1875                       Loss D: 0.5939, loss G: 0.9436\n",
            "Real Image\n"
          ],
          "name": "stdout"
        },
        {
          "output_type": "display_data",
          "data": {
            "image/png": "[encoded data removed]",
            "text/plain": [
              "<PIL.Image.Image image mode=L size=28x28 at 0x7FF2529B55D0>"
            ]
          },
          "metadata": {
            "tags": []
          }
        },
        {
          "output_type": "stream",
          "text": [
            "Fake Image\n"
          ],
          "name": "stdout"
        },
        {
          "output_type": "display_data",
          "data": {
            "image/png": "[encoded data removed]",
            "text/plain": [
              "<PIL.Image.Image image mode=L size=28x28 at 0x7FF24C0E2610>"
            ]
          },
          "metadata": {
            "tags": []
          }
        },
        {
          "output_type": "stream",
          "text": [
            "Epoch [6/50] Batch 0/1875                       Loss D: 0.6375, loss G: 0.8585\n",
            "Real Image\n"
          ],
          "name": "stdout"
        },
        {
          "output_type": "display_data",
          "data": {
            "image/png": "[encoded data removed]",
            "text/plain": [
              "<PIL.Image.Image image mode=L size=28x28 at 0x7FF25297CE90>"
            ]
          },
          "metadata": {
            "tags": []
          }
        },
        {
          "output_type": "stream",
          "text": [
            "Fake Image\n"
          ],
          "name": "stdout"
        },
        {
          "output_type": "display_data",
          "data": {
            "image/png": "[encoded data removed]",
            "text/plain": [
              "<PIL.Image.Image image mode=L size=28x28 at 0x7FF2529B55D0>"
            ]
          },
          "metadata": {
            "tags": []
          }
        },
        {
          "output_type": "stream",
          "text": [
            "Epoch [7/50] Batch 0/1875                       Loss D: 0.6383, loss G: 0.8171\n",
            "Real Image\n"
          ],
          "name": "stdout"
        },
        {
          "output_type": "display_data",
          "data": {
            "image/png": "[encoded data removed]",
            "text/plain": [
              "<PIL.Image.Image image mode=L size=28x28 at 0x7FF24C0D7C50>"
            ]
          },
          "metadata": {
            "tags": []
          }
        },
        {
          "output_type": "stream",
          "text": [
            "Fake Image\n"
          ],
          "name": "stdout"
        },
        {
          "output_type": "display_data",
          "data": {
            "image/png": "[encoded data removed]",
            "text/plain": [
              "<PIL.Image.Image image mode=L size=28x28 at 0x7FF24C0D7C50>"
            ]
          },
          "metadata": {
            "tags": []
          }
        },
        {
          "output_type": "stream",
          "text": [
            "Epoch [8/50] Batch 0/1875                       Loss D: 0.5876, loss G: 1.0423\n",
            "Real Image\n"
          ],
          "name": "stdout"
        },
        {
          "output_type": "display_data",
          "data": {
            "image/png": "[encoded data removed]",
            "text/plain": [
              "<PIL.Image.Image image mode=L size=28x28 at 0x7FF24C0E2610>"
            ]
          },
          "metadata": {
            "tags": []
          }
        },
        {
          "output_type": "stream",
          "text": [
            "Fake Image\n"
          ],
          "name": "stdout"
        },
        {
          "output_type": "display_data",
          "data": {
            "image/png": "[encoded data removed]",
            "text/plain": [
              "<PIL.Image.Image image mode=L size=28x28 at 0x7FF24C0E2150>"
            ]
          },
          "metadata": {
            "tags": []
          }
        },
        {
          "output_type": "stream",
          "text": [
            "Epoch [9/50] Batch 0/1875                       Loss D: 0.7063, loss G: 0.8380\n",
            "Real Image\n"
          ],
          "name": "stdout"
        },
        {
          "output_type": "display_data",
          "data": {
            "image/png": "[encoded data removed]",
            "text/plain": [
              "<PIL.Image.Image image mode=L size=28x28 at 0x7FF24B6A85D0>"
            ]
          },
          "metadata": {
            "tags": []
          }
        },
        {
          "output_type": "stream",
          "text": [
            "Fake Image\n"
          ],
          "name": "stdout"
        },
        {
          "output_type": "display_data",
          "data": {
            "image/png": "[encoded data removed]",
            "text/plain": [
              "<PIL.Image.Image image mode=L size=28x28 at 0x7FF25297D4D0>"
            ]
          },
          "metadata": {
            "tags": []
          }
        },
        {
          "output_type": "stream",
          "text": [
            "Epoch [10/50] Batch 0/1875                       Loss D: 0.6570, loss G: 1.0289\n",
            "Real Image\n"
          ],
          "name": "stdout"
        },
        {
          "output_type": "display_data",
          "data": {
            "image/png": "[encoded data removed]",
            "text/plain": [
              "<PIL.Image.Image image mode=L size=28x28 at 0x7FF24B631B50>"
            ]
          },
          "metadata": {
            "tags": []
          }
        },
        {
          "output_type": "stream",
          "text": [
            "Fake Image\n"
          ],
          "name": "stdout"
        },
        {
          "output_type": "display_data",
          "data": {
            "image/png": "[encoded data removed]",
            "text/plain": [
              "<PIL.Image.Image image mode=L size=28x28 at 0x7FF24DC13210>"
            ]
          },
          "metadata": {
            "tags": []
          }
        },
        {
          "output_type": "stream",
          "text": [
            "Epoch [11/50] Batch 0/1875                       Loss D: 0.6218, loss G: 0.9750\n",
            "Real Image\n"
          ],
          "name": "stdout"
        },
        {
          "output_type": "display_data",
          "data": {
            "image/png": "[encoded data removed]",
            "text/plain": [
              "<PIL.Image.Image image mode=L size=28x28 at 0x7FF24E5CA850>"
            ]
          },
          "metadata": {
            "tags": []
          }
        },
        {
          "output_type": "stream",
          "text": [
            "Fake Image\n"
          ],
          "name": "stdout"
        },
        {
          "output_type": "display_data",
          "data": {
            "image/png": "[encoded data removed]",
            "text/plain": [
              "<PIL.Image.Image image mode=L size=28x28 at 0x7FF24C0E2610>"
            ]
          },
          "metadata": {
            "tags": []
          }
        },
        {
          "output_type": "stream",
          "text": [
            "Epoch [12/50] Batch 0/1875                       Loss D: 0.6004, loss G: 0.9331\n",
            "Real Image\n"
          ],
          "name": "stdout"
        },
        {
          "output_type": "display_data",
          "data": {
            "image/png": "[encoded data removed]",
            "text/plain": [
              "<PIL.Image.Image image mode=L size=28x28 at 0x7FF24C0D7C50>"
            ]
          },
          "metadata": {
            "tags": []
          }
        },
        {
          "output_type": "stream",
          "text": [
            "Fake Image\n"
          ],
          "name": "stdout"
        },
        {
          "output_type": "display_data",
          "data": {
            "image/png": "[encoded data removed]",
            "text/plain": [
              "<PIL.Image.Image image mode=L size=28x28 at 0x7FF24C0E0150>"
            ]
          },
          "metadata": {
            "tags": []
          }
        },
        {
          "output_type": "stream",
          "text": [
            "Epoch [13/50] Batch 0/1875                       Loss D: 0.5830, loss G: 1.0440\n",
            "Real Image\n"
          ],
          "name": "stdout"
        },
        {
          "output_type": "display_data",
          "data": {
            "image/png": "[encoded data removed]",
            "text/plain": [
              "<PIL.Image.Image image mode=L size=28x28 at 0x7FF2529B55D0>"
            ]
          },
          "metadata": {
            "tags": []
          }
        },
        {
          "output_type": "stream",
          "text": [
            "Fake Image\n"
          ],
          "name": "stdout"
        },
        {
          "output_type": "display_data",
          "data": {
            "image/png": "[encoded data removed]",
            "text/plain": [
              "<PIL.Image.Image image mode=L size=28x28 at 0x7FF24DC1BB50>"
            ]
          },
          "metadata": {
            "tags": []
          }
        },
        {
          "output_type": "stream",
          "text": [
            "Epoch [14/50] Batch 0/1875                       Loss D: 0.5919, loss G: 0.8458\n",
            "Real Image\n"
          ],
          "name": "stdout"
        },
        {
          "output_type": "display_data",
          "data": {
            "image/png": "[encoded data removed]",
            "text/plain": [
              "<PIL.Image.Image image mode=L size=28x28 at 0x7FF24C0D73D0>"
            ]
          },
          "metadata": {
            "tags": []
          }
        },
        {
          "output_type": "stream",
          "text": [
            "Fake Image\n"
          ],
          "name": "stdout"
        },
        {
          "output_type": "display_data",
          "data": {
            "image/png": "[encoded data removed]",
            "text/plain": [
              "<PIL.Image.Image image mode=L size=28x28 at 0x7FF24DC1B910>"
            ]
          },
          "metadata": {
            "tags": []
          }
        },
        {
          "output_type": "stream",
          "text": [
            "Epoch [15/50] Batch 0/1875                       Loss D: 0.5951, loss G: 1.1259\n",
            "Real Image\n"
          ],
          "name": "stdout"
        },
        {
          "output_type": "display_data",
          "data": {
            "image/png": "[encoded data removed]",
            "text/plain": [
              "<PIL.Image.Image image mode=L size=28x28 at 0x7FF24DC13850>"
            ]
          },
          "metadata": {
            "tags": []
          }
        },
        {
          "output_type": "stream",
          "text": [
            "Fake Image\n"
          ],
          "name": "stdout"
        },
        {
          "output_type": "display_data",
          "data": {
            "image/png": "[encoded data removed]",
            "text/plain": [
              "<PIL.Image.Image image mode=L size=28x28 at 0x7FF24B71BF10>"
            ]
          },
          "metadata": {
            "tags": []
          }
        },
        {
          "output_type": "stream",
          "text": [
            "Epoch [16/50] Batch 0/1875                       Loss D: 0.6364, loss G: 0.9774\n",
            "Real Image\n"
          ],
          "name": "stdout"
        },
        {
          "output_type": "display_data",
          "data": {
            "image/png": "[encoded data removed]",
            "text/plain": [
              "<PIL.Image.Image image mode=L size=28x28 at 0x7FF2529CF910>"
            ]
          },
          "metadata": {
            "tags": []
          }
        },
        {
          "output_type": "stream",
          "text": [
            "Fake Image\n"
          ],
          "name": "stdout"
        },
        {
          "output_type": "display_data",
          "data": {
            "image/png": "[encoded data removed]",
            "text/plain": [
              "<PIL.Image.Image image mode=L size=28x28 at 0x7FF2529B55D0>"
            ]
          },
          "metadata": {
            "tags": []
          }
        },
        {
          "output_type": "stream",
          "text": [
            "Epoch [17/50] Batch 0/1875                       Loss D: 0.6008, loss G: 0.9227\n",
            "Real Image\n"
          ],
          "name": "stdout"
        },
        {
          "output_type": "display_data",
          "data": {
            "image/png": "[encoded data removed]",
            "text/plain": [
              "<PIL.Image.Image image mode=L size=28x28 at 0x7FF24DC13D90>"
            ]
          },
          "metadata": {
            "tags": []
          }
        },
        {
          "output_type": "stream",
          "text": [
            "Fake Image\n"
          ],
          "name": "stdout"
        },
        {
          "output_type": "display_data",
          "data": {
            "image/png": "[encoded data removed]",
            "text/plain": [
              "<PIL.Image.Image image mode=L size=28x28 at 0x7FF24C0E0110>"
            ]
          },
          "metadata": {
            "tags": []
          }
        },
        {
          "output_type": "stream",
          "text": [
            "Epoch [18/50] Batch 0/1875                       Loss D: 0.6414, loss G: 0.9800\n",
            "Real Image\n"
          ],
          "name": "stdout"
        },
        {
          "output_type": "display_data",
          "data": {
            "image/png": "[encoded data removed]",
            "text/plain": [
              "<PIL.Image.Image image mode=L size=28x28 at 0x7FF2529CF910>"
            ]
          },
          "metadata": {
            "tags": []
          }
        },
        {
          "output_type": "stream",
          "text": [
            "Fake Image\n"
          ],
          "name": "stdout"
        },
        {
          "output_type": "display_data",
          "data": {
            "image/png": "[encoded data removed]",
            "text/plain": [
              "<PIL.Image.Image image mode=L size=28x28 at 0x7FF24DC1BFD0>"
            ]
          },
          "metadata": {
            "tags": []
          }
        },
        {
          "output_type": "stream",
          "text": [
            "Epoch [19/50] Batch 0/1875                       Loss D: 0.7648, loss G: 0.6742\n",
            "Real Image\n"
          ],
          "name": "stdout"
        },
        {
          "output_type": "display_data",
          "data": {
            "image/png": "[encoded data removed]",
            "text/plain": [
              "<PIL.Image.Image image mode=L size=28x28 at 0x7FF24DC13D90>"
            ]
          },
          "metadata": {
            "tags": []
          }
        },
        {
          "output_type": "stream",
          "text": [
            "Fake Image\n"
          ],
          "name": "stdout"
        },
        {
          "output_type": "display_data",
          "data": {
            "image/png": "[encoded data removed]",
            "text/plain": [
              "<PIL.Image.Image image mode=L size=28x28 at 0x7FF24DC1BE90>"
            ]
          },
          "metadata": {
            "tags": []
          }
        },
        {
          "output_type": "stream",
          "text": [
            "Epoch [20/50] Batch 0/1875                       Loss D: 0.6264, loss G: 0.7955\n",
            "Real Image\n"
          ],
          "name": "stdout"
        },
        {
          "output_type": "display_data",
          "data": {
            "image/png": "[encoded data removed]",
            "text/plain": [
              "<PIL.Image.Image image mode=L size=28x28 at 0x7FF24C0D7C50>"
            ]
          },
          "metadata": {
            "tags": []
          }
        },
        {
          "output_type": "stream",
          "text": [
            "Fake Image\n"
          ],
          "name": "stdout"
        },
        {
          "output_type": "display_data",
          "data": {
            "image/png": "[encoded data removed]",
            "text/plain": [
              "<PIL.Image.Image image mode=L size=28x28 at 0x7FF24DC1BBD0>"
            ]
          },
          "metadata": {
            "tags": []
          }
        },
        {
          "output_type": "stream",
          "text": [
            "Epoch [21/50] Batch 0/1875                       Loss D: 0.6415, loss G: 0.8745\n",
            "Real Image\n"
          ],
          "name": "stdout"
        },
        {
          "output_type": "display_data",
          "data": {
            "image/png": "[encoded data removed]",
            "text/plain": [
              "<PIL.Image.Image image mode=L size=28x28 at 0x7FF24E77C3D0>"
            ]
          },
          "metadata": {
            "tags": []
          }
        },
        {
          "output_type": "stream",
          "text": [
            "Fake Image\n"
          ],
          "name": "stdout"
        },
        {
          "output_type": "display_data",
          "data": {
            "image/png": "[encoded data removed]",
            "text/plain": [
              "<PIL.Image.Image image mode=L size=28x28 at 0x7FF24E884910>"
            ]
          },
          "metadata": {
            "tags": []
          }
        },
        {
          "output_type": "stream",
          "text": [
            "Epoch [22/50] Batch 0/1875                       Loss D: 0.6779, loss G: 0.8241\n",
            "Real Image\n"
          ],
          "name": "stdout"
        },
        {
          "output_type": "display_data",
          "data": {
            "image/png": "[encoded data removed]",
            "text/plain": [
              "<PIL.Image.Image image mode=L size=28x28 at 0x7FF24C0D73D0>"
            ]
          },
          "metadata": {
            "tags": []
          }
        },
        {
          "output_type": "stream",
          "text": [
            "Fake Image\n"
          ],
          "name": "stdout"
        },
        {
          "output_type": "display_data",
          "data": {
            "image/png": "[encoded data removed]",
            "text/plain": [
              "<PIL.Image.Image image mode=L size=28x28 at 0x7FF24DC1BC10>"
            ]
          },
          "metadata": {
            "tags": []
          }
        },
        {
          "output_type": "stream",
          "text": [
            "Epoch [23/50] Batch 0/1875                       Loss D: 0.5786, loss G: 1.0207\n",
            "Real Image\n"
          ],
          "name": "stdout"
        },
        {
          "output_type": "display_data",
          "data": {
            "image/png": "[encoded data removed]",
            "text/plain": [
              "<PIL.Image.Image image mode=L size=28x28 at 0x7FF24C0E2650>"
            ]
          },
          "metadata": {
            "tags": []
          }
        },
        {
          "output_type": "stream",
          "text": [
            "Fake Image\n"
          ],
          "name": "stdout"
        },
        {
          "output_type": "display_data",
          "data": {
            "image/png": "[encoded data removed]",
            "text/plain": [
              "<PIL.Image.Image image mode=L size=28x28 at 0x7FF24C0E2710>"
            ]
          },
          "metadata": {
            "tags": []
          }
        },
        {
          "output_type": "stream",
          "text": [
            "Epoch [24/50] Batch 0/1875                       Loss D: 0.5685, loss G: 1.0042\n",
            "Real Image\n"
          ],
          "name": "stdout"
        },
        {
          "output_type": "display_data",
          "data": {
            "image/png": "[encoded data removed]",
            "text/plain": [
              "<PIL.Image.Image image mode=L size=28x28 at 0x7FF24B4CFE50>"
            ]
          },
          "metadata": {
            "tags": []
          }
        },
        {
          "output_type": "stream",
          "text": [
            "Fake Image\n"
          ],
          "name": "stdout"
        },
        {
          "output_type": "display_data",
          "data": {
            "image/png": "[encoded data removed]",
            "text/plain": [
              "<PIL.Image.Image image mode=L size=28x28 at 0x7FF24DC1BED0>"
            ]
          },
          "metadata": {
            "tags": []
          }
        },
        {
          "output_type": "stream",
          "text": [
            "Epoch [25/50] Batch 0/1875                       Loss D: 0.5300, loss G: 1.0256\n",
            "Real Image\n"
          ],
          "name": "stdout"
        },
        {
          "output_type": "display_data",
          "data": {
            "image/png": "[encoded data removed]",
            "text/plain": [
              "<PIL.Image.Image image mode=L size=28x28 at 0x7FF24B4CFE50>"
            ]
          },
          "metadata": {
            "tags": []
          }
        },
        {
          "output_type": "stream",
          "text": [
            "Fake Image\n"
          ],
          "name": "stdout"
        },
        {
          "output_type": "display_data",
          "data": {
            "image/png": "[encoded data removed]",
            "text/plain": [
              "<PIL.Image.Image image mode=L size=28x28 at 0x7FF24B6A85D0>"
            ]
          },
          "metadata": {
            "tags": []
          }
        },
        {
          "output_type": "stream",
          "text": [
            "Epoch [26/50] Batch 0/1875                       Loss D: 0.6617, loss G: 0.8713\n",
            "Real Image\n"
          ],
          "name": "stdout"
        },
        {
          "output_type": "display_data",
          "data": {
            "image/png": "[encoded data removed]",
            "text/plain": [
              "<PIL.Image.Image image mode=L size=28x28 at 0x7FF25297D4D0>"
            ]
          },
          "metadata": {
            "tags": []
          }
        },
        {
          "output_type": "stream",
          "text": [
            "Fake Image\n"
          ],
          "name": "stdout"
        },
        {
          "output_type": "display_data",
          "data": {
            "image/png": "[encoded data removed]",
            "text/plain": [
              "<PIL.Image.Image image mode=L size=28x28 at 0x7FF24C0D73D0>"
            ]
          },
          "metadata": {
            "tags": []
          }
        },
        {
          "output_type": "stream",
          "text": [
            "Epoch [27/50] Batch 0/1875                       Loss D: 0.6963, loss G: 0.7729\n",
            "Real Image\n"
          ],
          "name": "stdout"
        },
        {
          "output_type": "display_data",
          "data": {
            "image/png": "[encoded data removed]",
            "text/plain": [
              "<PIL.Image.Image image mode=L size=28x28 at 0x7FF24E770D90>"
            ]
          },
          "metadata": {
            "tags": []
          }
        },
        {
          "output_type": "stream",
          "text": [
            "Fake Image\n"
          ],
          "name": "stdout"
        },
        {
          "output_type": "display_data",
          "data": {
            "image/png": "[encoded data removed]",
            "text/plain": [
              "<PIL.Image.Image image mode=L size=28x28 at 0x7FF2529B55D0>"
            ]
          },
          "metadata": {
            "tags": []
          }
        },
        {
          "output_type": "stream",
          "text": [
            "Epoch [28/50] Batch 0/1875                       Loss D: 0.6168, loss G: 1.0139\n",
            "Real Image\n"
          ],
          "name": "stdout"
        },
        {
          "output_type": "display_data",
          "data": {
            "image/png": "[encoded data removed]",
            "text/plain": [
              "<PIL.Image.Image image mode=L size=28x28 at 0x7FF24B6A85D0>"
            ]
          },
          "metadata": {
            "tags": []
          }
        },
        {
          "output_type": "stream",
          "text": [
            "Fake Image\n"
          ],
          "name": "stdout"
        },
        {
          "output_type": "display_data",
          "data": {
            "image/png": "[encoded data removed]",
            "text/plain": [
              "<PIL.Image.Image image mode=L size=28x28 at 0x7FF2529CF910>"
            ]
          },
          "metadata": {
            "tags": []
          }
        },
        {
          "output_type": "stream",
          "text": [
            "Epoch [29/50] Batch 0/1875                       Loss D: 0.5735, loss G: 0.9027\n",
            "Real Image\n"
          ],
          "name": "stdout"
        },
        {
          "output_type": "display_data",
          "data": {
            "image/png": "[encoded data removed]",
            "text/plain": [
              "<PIL.Image.Image image mode=L size=28x28 at 0x7FF24C0E0110>"
            ]
          },
          "metadata": {
            "tags": []
          }
        },
        {
          "output_type": "stream",
          "text": [
            "Fake Image\n"
          ],
          "name": "stdout"
        },
        {
          "output_type": "display_data",
          "data": {
            "image/png": "[encoded data removed]",
            "text/plain": [
              "<PIL.Image.Image image mode=L size=28x28 at 0x7FF24C0D7C50>"
            ]
          },
          "metadata": {
            "tags": []
          }
        },
        {
          "output_type": "stream",
          "text": [
            "Epoch [30/50] Batch 0/1875                       Loss D: 0.6639, loss G: 1.0321\n",
            "Real Image\n"
          ],
          "name": "stdout"
        },
        {
          "output_type": "display_data",
          "data": {
            "image/png": "[encoded data removed]",
            "text/plain": [
              "<PIL.Image.Image image mode=L size=28x28 at 0x7FF24C0E0150>"
            ]
          },
          "metadata": {
            "tags": []
          }
        },
        {
          "output_type": "stream",
          "text": [
            "Fake Image\n"
          ],
          "name": "stdout"
        },
        {
          "output_type": "display_data",
          "data": {
            "image/png": "[encoded data removed]",
            "text/plain": [
              "<PIL.Image.Image image mode=L size=28x28 at 0x7FF25297D4D0>"
            ]
          },
          "metadata": {
            "tags": []
          }
        },
        {
          "output_type": "stream",
          "text": [
            "Epoch [31/50] Batch 0/1875                       Loss D: 0.5425, loss G: 1.0813\n",
            "Real Image\n"
          ],
          "name": "stdout"
        },
        {
          "output_type": "display_data",
          "data": {
            "image/png": "[encoded data removed]",
            "text/plain": [
              "<PIL.Image.Image image mode=L size=28x28 at 0x7FF24B71BF10>"
            ]
          },
          "metadata": {
            "tags": []
          }
        },
        {
          "output_type": "stream",
          "text": [
            "Fake Image\n"
          ],
          "name": "stdout"
        },
        {
          "output_type": "display_data",
          "data": {
            "image/png": "[encoded data removed]",
            "text/plain": [
              "<PIL.Image.Image image mode=L size=28x28 at 0x7FF24C0E0110>"
            ]
          },
          "metadata": {
            "tags": []
          }
        },
        {
          "output_type": "stream",
          "text": [
            "Epoch [32/50] Batch 0/1875                       Loss D: 0.5622, loss G: 0.8765\n",
            "Real Image\n"
          ],
          "name": "stdout"
        },
        {
          "output_type": "display_data",
          "data": {
            "image/png": "[encoded data removed]",
            "text/plain": [
              "<PIL.Image.Image image mode=L size=28x28 at 0x7FF2529B55D0>"
            ]
          },
          "metadata": {
            "tags": []
          }
        },
        {
          "output_type": "stream",
          "text": [
            "Fake Image\n"
          ],
          "name": "stdout"
        },
        {
          "output_type": "display_data",
          "data": {
            "image/png": "[encoded data removed]",
            "text/plain": [
              "<PIL.Image.Image image mode=L size=28x28 at 0x7FF24DC13210>"
            ]
          },
          "metadata": {
            "tags": []
          }
        },
        {
          "output_type": "stream",
          "text": [
            "Epoch [33/50] Batch 0/1875                       Loss D: 0.5748, loss G: 1.1272\n",
            "Real Image\n"
          ],
          "name": "stdout"
        },
        {
          "output_type": "display_data",
          "data": {
            "image/png": "[encoded data removed]",
            "text/plain": [
              "<PIL.Image.Image image mode=L size=28x28 at 0x7FF25297CE90>"
            ]
          },
          "metadata": {
            "tags": []
          }
        },
        {
          "output_type": "stream",
          "text": [
            "Fake Image\n"
          ],
          "name": "stdout"
        },
        {
          "output_type": "display_data",
          "data": {
            "image/png": "[encoded data removed]",
            "text/plain": [
              "<PIL.Image.Image image mode=L size=28x28 at 0x7FF2529B55D0>"
            ]
          },
          "metadata": {
            "tags": []
          }
        },
        {
          "output_type": "stream",
          "text": [
            "Epoch [34/50] Batch 0/1875                       Loss D: 0.6033, loss G: 0.9406\n",
            "Real Image\n"
          ],
          "name": "stdout"
        },
        {
          "output_type": "display_data",
          "data": {
            "image/png": "[encoded data removed]",
            "text/plain": [
              "<PIL.Image.Image image mode=L size=28x28 at 0x7FF24B6A85D0>"
            ]
          },
          "metadata": {
            "tags": []
          }
        },
        {
          "output_type": "stream",
          "text": [
            "Fake Image\n"
          ],
          "name": "stdout"
        },
        {
          "output_type": "display_data",
          "data": {
            "image/png": "[encoded data removed]",
            "text/plain": [
              "<PIL.Image.Image image mode=L size=28x28 at 0x7FF24B631B50>"
            ]
          },
          "metadata": {
            "tags": []
          }
        },
        {
          "output_type": "stream",
          "text": [
            "Epoch [35/50] Batch 0/1875                       Loss D: 0.6095, loss G: 0.9036\n",
            "Real Image\n"
          ],
          "name": "stdout"
        },
        {
          "output_type": "display_data",
          "data": {
            "image/png": "[encoded data removed]",
            "text/plain": [
              "<PIL.Image.Image image mode=L size=28x28 at 0x7FF24C0E0150>"
            ]
          },
          "metadata": {
            "tags": []
          }
        },
        {
          "output_type": "stream",
          "text": [
            "Fake Image\n"
          ],
          "name": "stdout"
        },
        {
          "output_type": "display_data",
          "data": {
            "image/png": "[encoded data removed]",
            "text/plain": [
              "<PIL.Image.Image image mode=L size=28x28 at 0x7FF24C0E0150>"
            ]
          },
          "metadata": {
            "tags": []
          }
        },
        {
          "output_type": "stream",
          "text": [
            "Epoch [36/50] Batch 0/1875                       Loss D: 0.6065, loss G: 1.0068\n",
            "Real Image\n"
          ],
          "name": "stdout"
        },
        {
          "output_type": "display_data",
          "data": {
            "image/png": "[encoded data removed]",
            "text/plain": [
              "<PIL.Image.Image image mode=L size=28x28 at 0x7FF24B6A85D0>"
            ]
          },
          "metadata": {
            "tags": []
          }
        },
        {
          "output_type": "stream",
          "text": [
            "Fake Image\n"
          ],
          "name": "stdout"
        },
        {
          "output_type": "display_data",
          "data": {
            "image/png": "[encoded data removed]",
            "text/plain": [
              "<PIL.Image.Image image mode=L size=28x28 at 0x7FF24C0D73D0>"
            ]
          },
          "metadata": {
            "tags": []
          }
        },
        {
          "output_type": "stream",
          "text": [
            "Epoch [37/50] Batch 0/1875                       Loss D: 0.7008, loss G: 0.8725\n",
            "Real Image\n"
          ],
          "name": "stdout"
        },
        {
          "output_type": "display_data",
          "data": {
            "image/png": "[encoded data removed]",
            "text/plain": [
              "<PIL.Image.Image image mode=L size=28x28 at 0x7FF24C0E0110>"
            ]
          },
          "metadata": {
            "tags": []
          }
        },
        {
          "output_type": "stream",
          "text": [
            "Fake Image\n"
          ],
          "name": "stdout"
        },
        {
          "output_type": "display_data",
          "data": {
            "image/png": "[encoded data removed]",
            "text/plain": [
              "<PIL.Image.Image image mode=L size=28x28 at 0x7FF2529B55D0>"
            ]
          },
          "metadata": {
            "tags": []
          }
        },
        {
          "output_type": "stream",
          "text": [
            "Epoch [38/50] Batch 0/1875                       Loss D: 0.5612, loss G: 1.2267\n",
            "Real Image\n"
          ],
          "name": "stdout"
        },
        {
          "output_type": "display_data",
          "data": {
            "image/png": "[encoded data removed]",
            "text/plain": [
              "<PIL.Image.Image image mode=L size=28x28 at 0x7FF24B4CFE50>"
            ]
          },
          "metadata": {
            "tags": []
          }
        },
        {
          "output_type": "stream",
          "text": [
            "Fake Image\n"
          ],
          "name": "stdout"
        },
        {
          "output_type": "display_data",
          "data": {
            "image/png": "[encoded data removed]",
            "text/plain": [
              "<PIL.Image.Image image mode=L size=28x28 at 0x7FF24C0E0150>"
            ]
          },
          "metadata": {
            "tags": []
          }
        },
        {
          "output_type": "stream",
          "text": [
            "Epoch [39/50] Batch 0/1875                       Loss D: 0.5787, loss G: 1.0043\n",
            "Real Image\n"
          ],
          "name": "stdout"
        },
        {
          "output_type": "display_data",
          "data": {
            "image/png": "[encoded data removed]",
            "text/plain": [
              "<PIL.Image.Image image mode=L size=28x28 at 0x7FF24DC13210>"
            ]
          },
          "metadata": {
            "tags": []
          }
        },
        {
          "output_type": "stream",
          "text": [
            "Fake Image\n"
          ],
          "name": "stdout"
        },
        {
          "output_type": "display_data",
          "data": {
            "image/png": "[encoded data removed]",
            "text/plain": [
              "<PIL.Image.Image image mode=L size=28x28 at 0x7FF24DC1BB50>"
            ]
          },
          "metadata": {
            "tags": []
          }
        },
        {
          "output_type": "stream",
          "text": [
            "Epoch [40/50] Batch 0/1875                       Loss D: 0.6077, loss G: 0.9179\n",
            "Real Image\n"
          ],
          "name": "stdout"
        },
        {
          "output_type": "display_data",
          "data": {
            "image/png": "[encoded data removed]",
            "text/plain": [
              "<PIL.Image.Image image mode=L size=28x28 at 0x7FF24C0D73D0>"
            ]
          },
          "metadata": {
            "tags": []
          }
        },
        {
          "output_type": "stream",
          "text": [
            "Fake Image\n"
          ],
          "name": "stdout"
        },
        {
          "output_type": "display_data",
          "data": {
            "image/png": "[encoded data removed]",
            "text/plain": [
              "<PIL.Image.Image image mode=L size=28x28 at 0x7FF24C0E0110>"
            ]
          },
          "metadata": {
            "tags": []
          }
        },
        {
          "output_type": "stream",
          "text": [
            "Epoch [41/50] Batch 0/1875                       Loss D: 0.5437, loss G: 1.2327\n",
            "Real Image\n"
          ],
          "name": "stdout"
        },
        {
          "output_type": "display_data",
          "data": {
            "image/png": "[encoded data removed]",
            "text/plain": [
              "<PIL.Image.Image image mode=L size=28x28 at 0x7FF24C0E0150>"
            ]
          },
          "metadata": {
            "tags": []
          }
        },
        {
          "output_type": "stream",
          "text": [
            "Fake Image\n"
          ],
          "name": "stdout"
        },
        {
          "output_type": "display_data",
          "data": {
            "image/png": "[encoded data removed]",
            "text/plain": [
              "<PIL.Image.Image image mode=L size=28x28 at 0x7FF24E77C3D0>"
            ]
          },
          "metadata": {
            "tags": []
          }
        },
        {
          "output_type": "stream",
          "text": [
            "Epoch [42/50] Batch 0/1875                       Loss D: 0.5579, loss G: 0.9158\n",
            "Real Image\n"
          ],
          "name": "stdout"
        },
        {
          "output_type": "display_data",
          "data": {
            "image/png": "[encoded data removed]",
            "text/plain": [
              "<PIL.Image.Image image mode=L size=28x28 at 0x7FF24B6A85D0>"
            ]
          },
          "metadata": {
            "tags": []
          }
        },
        {
          "output_type": "stream",
          "text": [
            "Fake Image\n"
          ],
          "name": "stdout"
        },
        {
          "output_type": "display_data",
          "data": {
            "image/png": "[encoded data removed]",
            "text/plain": [
              "<PIL.Image.Image image mode=L size=28x28 at 0x7FF24B631B50>"
            ]
          },
          "metadata": {
            "tags": []
          }
        },
        {
          "output_type": "stream",
          "text": [
            "Epoch [43/50] Batch 0/1875                       Loss D: 0.6760, loss G: 0.8844\n",
            "Real Image\n"
          ],
          "name": "stdout"
        },
        {
          "output_type": "display_data",
          "data": {
            "image/png": "[encoded data removed]",
            "text/plain": [
              "<PIL.Image.Image image mode=L size=28x28 at 0x7FF24E77C3D0>"
            ]
          },
          "metadata": {
            "tags": []
          }
        },
        {
          "output_type": "stream",
          "text": [
            "Fake Image\n"
          ],
          "name": "stdout"
        },
        {
          "output_type": "display_data",
          "data": {
            "image/png": "[encoded data removed]",
            "text/plain": [
              "<PIL.Image.Image image mode=L size=28x28 at 0x7FF24DC13210>"
            ]
          },
          "metadata": {
            "tags": []
          }
        },
        {
          "output_type": "stream",
          "text": [
            "Epoch [44/50] Batch 0/1875                       Loss D: 0.6818, loss G: 0.9376\n",
            "Real Image\n"
          ],
          "name": "stdout"
        },
        {
          "output_type": "display_data",
          "data": {
            "image/png": "[encoded data removed]",
            "text/plain": [
              "<PIL.Image.Image image mode=L size=28x28 at 0x7FF24DC13D90>"
            ]
          },
          "metadata": {
            "tags": []
          }
        },
        {
          "output_type": "stream",
          "text": [
            "Fake Image\n"
          ],
          "name": "stdout"
        },
        {
          "output_type": "display_data",
          "data": {
            "image/png": "[encoded data removed]",
            "text/plain": [
              "<PIL.Image.Image image mode=L size=28x28 at 0x7FF24DC13210>"
            ]
          },
          "metadata": {
            "tags": []
          }
        },
        {
          "output_type": "stream",
          "text": [
            "Epoch [45/50] Batch 0/1875                       Loss D: 0.6420, loss G: 1.0753\n",
            "Real Image\n"
          ],
          "name": "stdout"
        },
        {
          "output_type": "display_data",
          "data": {
            "image/png": "[encoded data removed]",
            "text/plain": [
              "<PIL.Image.Image image mode=L size=28x28 at 0x7FF2529CF910>"
            ]
          },
          "metadata": {
            "tags": []
          }
        },
        {
          "output_type": "stream",
          "text": [
            "Fake Image\n"
          ],
          "name": "stdout"
        },
        {
          "output_type": "display_data",
          "data": {
            "image/png": "[encoded data removed]",
            "text/plain": [
              "<PIL.Image.Image image mode=L size=28x28 at 0x7FF24C0D79D0>"
            ]
          },
          "metadata": {
            "tags": []
          }
        },
        {
          "output_type": "stream",
          "text": [
            "Epoch [46/50] Batch 0/1875                       Loss D: 0.5412, loss G: 1.0987\n",
            "Real Image\n"
          ],
          "name": "stdout"
        },
        {
          "output_type": "display_data",
          "data": {
            "image/png": "[encoded data removed]",
            "text/plain": [
              "<PIL.Image.Image image mode=L size=28x28 at 0x7FF24E770D90>"
            ]
          },
          "metadata": {
            "tags": []
          }
        },
        {
          "output_type": "stream",
          "text": [
            "Fake Image\n"
          ],
          "name": "stdout"
        },
        {
          "output_type": "display_data",
          "data": {
            "image/png": "[encoded data removed]",
            "text/plain": [
              "<PIL.Image.Image image mode=L size=28x28 at 0x7FF24C0E0150>"
            ]
          },
          "metadata": {
            "tags": []
          }
        },
        {
          "output_type": "stream",
          "text": [
            "Epoch [47/50] Batch 0/1875                       Loss D: 0.5030, loss G: 1.0285\n",
            "Real Image\n"
          ],
          "name": "stdout"
        },
        {
          "output_type": "display_data",
          "data": {
            "image/png": "[encoded data removed]",
            "text/plain": [
              "<PIL.Image.Image image mode=L size=28x28 at 0x7FF24E77C3D0>"
            ]
          },
          "metadata": {
            "tags": []
          }
        },
        {
          "output_type": "stream",
          "text": [
            "Fake Image\n"
          ],
          "name": "stdout"
        },
        {
          "output_type": "display_data",
          "data": {
            "image/png": "[encoded data removed]",
            "text/plain": [
              "<PIL.Image.Image image mode=L size=28x28 at 0x7FF24C0E0150>"
            ]
          },
          "metadata": {
            "tags": []
          }
        },
        {
          "output_type": "stream",
          "text": [
            "Epoch [48/50] Batch 0/1875                       Loss D: 0.6029, loss G: 1.1584\n",
            "Real Image\n"
          ],
          "name": "stdout"
        },
        {
          "output_type": "display_data",
          "data": {
            "image/png": "[encoded data removed]",
            "text/plain": [
              "<PIL.Image.Image image mode=L size=28x28 at 0x7FF24DC13850>"
            ]
          },
          "metadata": {
            "tags": []
          }
        },
        {
          "output_type": "stream",
          "text": [
            "Fake Image\n"
          ],
          "name": "stdout"
        },
        {
          "output_type": "display_data",
          "data": {
            "image/png": "[encoded data removed]",
            "text/plain": [
              "<PIL.Image.Image image mode=L size=28x28 at 0x7FF24C0C4A50>"
            ]
          },
          "metadata": {
            "tags": []
          }
        },
        {
          "output_type": "stream",
          "text": [
            "Epoch [49/50] Batch 0/1875                       Loss D: 0.5340, loss G: 1.0286\n",
            "Real Image\n"
          ],
          "name": "stdout"
        },
        {
          "output_type": "display_data",
          "data": {
            "image/png": "[encoded data removed]",
            "text/plain": [
              "<PIL.Image.Image image mode=L size=28x28 at 0x7FF24E770D90>"
            ]
          },
          "metadata": {
            "tags": []
          }
        },
        {
          "output_type": "stream",
          "text": [
            "Fake Image\n"
          ],
          "name": "stdout"
        },
        {
          "output_type": "display_data",
          "data": {
            "image/png": "[encoded data removed]",
            "text/plain": [
              "<PIL.Image.Image image mode=L size=28x28 at 0x7FF24E884910>"
            ]
          },
          "metadata": {
            "tags": []
          }
        }
      ]
    }
  ]
}